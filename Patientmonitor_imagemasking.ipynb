{
  "cells": [
    {
      "cell_type": "markdown",
      "metadata": {
        "id": "Sw2Vb2MQuVX9"
      },
      "source": [
        "## Importing Libraries"
      ]
    },
    {
      "cell_type": "code",
      "execution_count": null,
      "metadata": {
        "id": "VfAKv5yDuVYA"
      },
      "outputs": [],
      "source": [
        "# Install required libraries\n",
        "!pip install easyocr\n",
        "!pip install promptlib\n",
        "!pip install progress"
      ]
    },
    {
      "cell_type": "code",
      "execution_count": null,
      "metadata": {
        "id": "6Ji2YquPHsrW"
      },
      "outputs": [],
      "source": [
        "import matplotlib.pyplot as plt\n",
        "import numpy as np\n",
        "import cv2\n",
        "import os\n",
        "import easyocr\n",
        "from PIL import Image\n",
        "import glob\n",
        "import promptlib\n",
        "from time import sleep\n",
        "from tqdm.auto import tqdm\n",
        "from progress.bar import Bar\n",
        "import glob\n",
        "import re\n",
        "from collections import OrderedDict\n",
        "import string\n",
        "import csv\n",
        "import pandas as pd\n",
        "from google.colab.patches import cv2_imshow\n",
        "reader=easyocr.Reader(['en'])\n",
        "import time\n"
      ]
    },
    {
      "cell_type": "code",
      "source": [
        "import cv2\n",
        "import numpy as np\n",
        "import matplotlib.pyplot as plt"
      ],
      "metadata": {
        "id": "kPRhygkHvjo5"
      },
      "execution_count": 3,
      "outputs": []
    },
    {
      "cell_type": "code",
      "execution_count": null,
      "metadata": {
        "id": "ncVfpJodHk9Q"
      },
      "outputs": [],
      "source": [
        "from google.colab import drive\n",
        "drive.mount('/content/gdrive')"
      ]
    },
    {
      "cell_type": "code",
      "execution_count": 5,
      "metadata": {
        "id": "pn_r458puVYC"
      },
      "outputs": [],
      "source": [
        "def hsv_conversion(image):\n",
        "    hsv_frame=cv2.cvtColor(image,cv2.COLOR_BGR2HSV)\n",
        "    return hsv_frame"
      ]
    },
    {
      "cell_type": "code",
      "source": [
        "def straighten_image(image_path):\n",
        "    # Read the image\n",
        "    image = cv2.imread(image_path)\n",
        "\n",
        "    # Convert the image to grayscale\n",
        "    gray = cv2.cvtColor(image, cv2.COLOR_BGR2GRAY)\n",
        "\n",
        "    # Apply Gaussian blur to reduce noise\n",
        "    blurred = cv2.GaussianBlur(gray, (5, 5), 0)\n",
        "\n",
        "    # Perform edge detection\n",
        "    edges = cv2.Canny(blurred, 50, 150)\n",
        "\n",
        "    # Find contours in the edge-detected image\n",
        "    contours, _ = cv2.findContours(edges.copy(), cv2.RETR_EXTERNAL, cv2.CHAIN_APPROX_SIMPLE)\n",
        "\n",
        "    # Find the contour with maximum area\n",
        "    max_contour = max(contours, key=cv2.contourArea)\n",
        "\n",
        "    # Get the minimum bounding box around the contour\n",
        "    rect = cv2.minAreaRect(max_contour)\n",
        "\n",
        "    # Calculate the aspect ratio of the bounding box\n",
        "    width = rect[1][0]\n",
        "    height = rect[1][1]\n",
        "    aspect_ratio = max(width, height) / min(width, height)\n",
        "\n",
        "    # Get the rotation angle from the bounding box\n",
        "    angle = rect[2]\n",
        "    initial_angle = angle\n",
        "\n",
        "    # Adjust the rotation angle based on the initial angle\n",
        "    if angle < -45:\n",
        "        angle += 90\n",
        "\n",
        "    if 45 < angle < 90:\n",
        "        angle -= 90\n",
        "\n",
        "    if angle == 90:\n",
        "        angle -= 90\n",
        "\n",
        "    # Rotate the image to straighten it\n",
        "    (h, w) = image.shape[:2]\n",
        "    center = (w // 2, h // 2)\n",
        "    M = cv2.getRotationMatrix2D(center, angle, 1.0)\n",
        "\n",
        "    rotated_image = cv2.warpAffine(image, M, (w, h), flags=cv2.INTER_CUBIC, borderMode=cv2.BORDER_REPLICATE)\n",
        "\n",
        "\n",
        "    return rotated_image\n"
      ],
      "metadata": {
        "id": "xsgdVxpRv4ti"
      },
      "execution_count": 6,
      "outputs": []
    },
    {
      "cell_type": "code",
      "source": [
        "def get_green_mask(hsv_frame, image):\n",
        "    # Define HSV boundaries for green color masking\n",
        "    low_green = np.array([50, 25, 25])\n",
        "    high_green = np.array([70, 255, 255])\n",
        "\n",
        "    # Convert the image to grayscale\n",
        "    gray_image = cv2.cvtColor(image, cv2.COLOR_BGR2GRAY)\n",
        "\n",
        "    # Apply Gaussian blur to reduce noise\n",
        "    blurred_image = cv2.GaussianBlur(gray_image, (5, 5), 0)\n",
        "\n",
        "    # Apply Canny edge detection to detect green regions\n",
        "    edges = cv2.Canny(blurred_image, threshold1=30, threshold2=100)  # Adjust threshold values as needed\n",
        "\n",
        "    # Thresholding to improve contrast\n",
        "    threshold_value = 50  # Adjust threshold value as needed\n",
        "    _, thresholded_image = cv2.threshold(edges, threshold_value, 255, cv2.THRESH_BINARY)\n",
        "\n",
        "    # Create a mask from the thresholded image within the defined HSV boundaries\n",
        "    mask_green = cv2.inRange(hsv_frame, low_green, high_green)\n",
        "\n",
        "    # Bitwise AND operation to extract green regions from the original image\n",
        "    green_masked_image = cv2.bitwise_and(image, image, mask=mask_green)\n",
        "\n",
        "    return green_masked_image"
      ],
      "metadata": {
        "id": "aONCcZaiujHf"
      },
      "execution_count": 7,
      "outputs": []
    },
    {
      "cell_type": "code",
      "source": [
        "def get_yellow_mask(hsv_frame, image):\n",
        "    # Define HSV boundaries for yellow color masking\n",
        "    low_yellow = np.array([25, 80, 80])\n",
        "    high_yellow = np.array([40, 255, 255])\n",
        "\n",
        "    # Convert the image to grayscale\n",
        "    gray_image = cv2.cvtColor(image, cv2.COLOR_BGR2GRAY)\n",
        "\n",
        "    # Apply Gaussian blur to reduce noise\n",
        "    blurred_image = cv2.GaussianBlur(gray_image, (5, 5), 0)\n",
        "\n",
        "    # Apply Canny edge detection to detect yellow regions\n",
        "    edges = cv2.Canny(blurred_image, threshold1=30, threshold2=100)  # Adjust threshold values as needed\n",
        "\n",
        "    # Thresholding to improve contrast\n",
        "    threshold_value = 50  # Adjust threshold value as needed\n",
        "    _, thresholded_image = cv2.threshold(edges, threshold_value, 255, cv2.THRESH_BINARY)\n",
        "\n",
        "    # Create a mask from the thresholded image within the defined HSV boundaries\n",
        "    mask_yellow = cv2.inRange(hsv_frame, low_yellow, high_yellow)\n",
        "\n",
        "    # Bitwise AND operation to extract yellow regions from the original image\n",
        "    yellow_masked_image = cv2.bitwise_and(image, image, mask=mask_yellow)\n",
        "\n",
        "    return yellow_masked_image\n"
      ],
      "metadata": {
        "id": "xJ0uVchRuiqk"
      },
      "execution_count": 8,
      "outputs": []
    },
    {
      "cell_type": "code",
      "source": [
        "def get_red_mask(hsv_frame, image):\n",
        "    # Define HSV boundaries for red color masking\n",
        "    low_red1 = np.array([0, 70, 50])\n",
        "    high_red1 = np.array([10, 255, 255])\n",
        "    low_red2 = np.array([170, 70, 50])\n",
        "    high_red2 = np.array([180, 255, 255])\n",
        "\n",
        "    # Convert the image to grayscale\n",
        "    gray_image = cv2.cvtColor(image, cv2.COLOR_BGR2GRAY)\n",
        "\n",
        "    # Apply Gaussian blur to reduce noise\n",
        "    blurred_image = cv2.GaussianBlur(gray_image, (5, 5), 0)\n",
        "\n",
        "    # Apply Canny edge detection to detect red regions\n",
        "    edges1 = cv2.Canny(blurred_image, threshold1=30, threshold2=100)  # Adjust threshold values as needed\n",
        "    edges2 = cv2.Canny(blurred_image, threshold1=30, threshold2=100)  # Adjust threshold values as needed\n",
        "\n",
        "    # Thresholding to improve contrast\n",
        "    threshold_value = 50  # Adjust threshold value as needed\n",
        "    _, thresholded_image1 = cv2.threshold(edges1, threshold_value, 255, cv2.THRESH_BINARY)\n",
        "    _, thresholded_image2 = cv2.threshold(edges2, threshold_value, 255, cv2.THRESH_BINARY)\n",
        "\n",
        "    # Create a mask from the thresholded images within the defined HSV boundaries\n",
        "    mask_red1 = cv2.inRange(hsv_frame, low_red1, high_red1)\n",
        "    mask_red2 = cv2.inRange(hsv_frame, low_red2, high_red2)\n",
        "    mask_red = mask_red1 | mask_red2\n",
        "\n",
        "    # Bitwise AND operation to extract red regions from the original image\n",
        "    red_masked_image = cv2.bitwise_and(image, image, mask=mask_red)\n",
        "\n",
        "    return red_masked_image"
      ],
      "metadata": {
        "id": "0ctKqBYdugMf"
      },
      "execution_count": 9,
      "outputs": []
    },
    {
      "cell_type": "code",
      "source": [
        "def get_white_mask(hsv_frame, image):\n",
        "    # Define HSV boundaries for white color masking\n",
        "    low_white = np.array([0, 0, 168])\n",
        "    high_white = np.array([172, 111, 255])\n",
        "\n",
        "    low_greyish_white = np.array([0, 0, 200])\n",
        "    high_greyish_white = np.array([180, 30, 255])\n",
        "\n",
        "    # Convert the image to grayscale\n",
        "    gray_image = cv2.cvtColor(image, cv2.COLOR_BGR2GRAY)\n",
        "\n",
        "    # Apply Gaussian blur to reduce noise\n",
        "    blurred_image = cv2.GaussianBlur(gray_image, (5, 5), 0)\n",
        "\n",
        "    # Apply Canny edge detection to detect white regions\n",
        "    edges = cv2.Canny(blurred_image, threshold1=30, threshold2=100)  # Adjust threshold values as needed\n",
        "\n",
        "    # Thresholding to improve contrast\n",
        "    threshold_value = 50  # Adjust threshold value as needed\n",
        "    _, thresholded_image = cv2.threshold(edges, threshold_value, 255, cv2.THRESH_BINARY)\n",
        "\n",
        "    # Create a mask from the thresholded image within the defined HSV boundaries\n",
        "    mask = cv2.inRange(hsv_frame, low_white, high_white)\n",
        "    mask1 = cv2.inRange(hsv_frame, low_greyish_white, high_greyish_white)\n",
        "    mask_white = mask | mask1\n",
        "\n",
        "    # Bitwise AND operation to extract white regions from the original image\n",
        "    white_masked_image = cv2.bitwise_and(image, image, mask=mask_white)\n",
        "\n",
        "    return white_masked_image"
      ],
      "metadata": {
        "id": "RnS_8x-KuHVn"
      },
      "execution_count": 10,
      "outputs": []
    },
    {
      "cell_type": "code",
      "source": [
        "def get_blue_mask(hsv, frame_image):\n",
        "    # Define HSV boundaries for blue color masking\n",
        "    lower_blue = np.array([80, 50, 50])\n",
        "    upper_blue = np.array([130, 255, 255])\n",
        "    light_blue_lower1 = np.array([90, 50, 50])\n",
        "    light_blue_upper1 = np.array([110, 255, 255])\n",
        "\n",
        "    # Convert the image to grayscale\n",
        "    gray_image = cv2.cvtColor(frame_image, cv2.COLOR_BGR2GRAY)\n",
        "\n",
        "    # Apply Gaussian blur to reduce noise\n",
        "    blurred_image = cv2.GaussianBlur(gray_image, (5, 5), 0)\n",
        "\n",
        "    # Apply Canny edge detection to detect blue regions\n",
        "    edges1 = cv2.Canny(blurred_image, threshold1=30, threshold2=100)  # Adjust threshold values as needed\n",
        "    edges2 = cv2.Canny(blurred_image, threshold1=30, threshold2=100)  # Adjust threshold values as needed\n",
        "\n",
        "    # Thresholding to improve contrast\n",
        "    threshold_value = 50  # Adjust threshold value as needed\n",
        "    _, thresholded_image1 = cv2.threshold(edges1, threshold_value, 255, cv2.THRESH_BINARY)\n",
        "    _, thresholded_image2 = cv2.threshold(edges2, threshold_value, 255, cv2.THRESH_BINARY)\n",
        "\n",
        "    # Create a mask from the thresholded images within the defined HSV boundaries\n",
        "    mask_blue1 = cv2.inRange(hsv, lower_blue, upper_blue)\n",
        "    mask_blue2 = cv2.inRange(hsv, light_blue_lower1, light_blue_upper1)\n",
        "    mask_blue = mask_blue1 | mask_blue2\n",
        "\n",
        "    # Bitwise AND operation to extract blue regions from the original image\n",
        "    blue_masked_image = cv2.bitwise_and(frame_image, frame_image, mask=mask_blue)\n",
        "\n",
        "    return blue_masked_image\n"
      ],
      "metadata": {
        "id": "nDacyJhXtdw-"
      },
      "execution_count": 11,
      "outputs": []
    },
    {
      "cell_type": "code",
      "execution_count": 12,
      "metadata": {
        "id": "ZZo4j4RguVYF"
      },
      "outputs": [],
      "source": [
        "def get_mix_strings(item):\n",
        "    for ch in item:\n",
        "        if not ch.isalpha():\n",
        "            if not ch.isdigit():\n",
        "                return False\n",
        "    return True\n",
        "\n",
        "def get_all_num(item):\n",
        "    return all([ch.isdigit() for ch in item])\n",
        "\n",
        "def get_all_alpha(item):\n",
        "    return all([ch.isalpha() for ch in item])"
      ]
    },
    {
      "cell_type": "code",
      "execution_count": null,
      "metadata": {
        "id": "T9TTWBcoHPc7"
      },
      "outputs": [],
      "source": [
        "#change this part of image_path by adding your drive adresses to make it work in your device\n",
        "image_path = '/content/gdrive/MyDrive/patient_monitors/pm_z4.jpg'\n",
        "image = straighten_image(image_path)\n",
        "\n",
        "plt.figure(figsize=(10, 5))\n",
        "original_image = cv2.imread(image_path)\n",
        "# Plot the original image\n",
        "plt.subplot(1, 2, 1)\n",
        "plt.imshow(cv2.cvtColor(original_image, cv2.COLOR_BGR2RGB))\n",
        "plt.title('Original Image')\n",
        "plt.axis('off')\n",
        "\n",
        "# Plot the rotated image\n",
        "plt.subplot(1, 2, 2)\n",
        "plt.imshow(cv2.cvtColor(image, cv2.COLOR_BGR2RGB))\n",
        "plt.title('Rotated Image')\n",
        "plt.axis('off')\n",
        "\n",
        "plt.show()"
      ]
    },
    {
      "cell_type": "code",
      "execution_count": null,
      "metadata": {
        "id": "FFsPoZ00IpN_"
      },
      "outputs": [],
      "source": [
        "hsv_frame = hsv_conversion(image)\n",
        "plt.imshow(hsv_frame)"
      ]
    },
    {
      "cell_type": "code",
      "execution_count": 15,
      "metadata": {
        "id": "k0ojVhCXKh7r"
      },
      "outputs": [],
      "source": [
        "def OCR_header(color):\n",
        "    result = reader.readtext(color,min_size= 25,detail=0,text_threshold=0.90)  #Apply easyOCR to detect all the characters\n",
        "    final_header = []\n",
        "    for item in result:\n",
        "        if get_all_num(item):\n",
        "            continue\n",
        "        elif get_mix_strings(item):\n",
        "            final_header.append(item)\n",
        "        elif get_all_alpha(item):\n",
        "            final_header.append((item))\n",
        "\n",
        "    return final_header"
      ]
    },
    {
      "cell_type": "code",
      "execution_count": null,
      "metadata": {
        "id": "jrx319BoJPYa"
      },
      "outputs": [],
      "source": [
        "arr = np.ones(image.shape)\n",
        "arr[:, :, 0] = 210 # 180, 100, 175 # 210, 300, 170\n",
        "arr[:, :, 1] = 300\n",
        "arr[:, :, 2] = 170\n",
        "arr = arr.astype(np.uint8)\n",
        "arr = cv2.cvtColor(arr, cv2.COLOR_HSV2BGR)\n",
        "print(arr[0, 0])"
      ]
    },
    {
      "cell_type": "code",
      "execution_count": null,
      "metadata": {
        "id": "PnHHoTVkMaGT"
      },
      "outputs": [],
      "source": [
        "arr[0, 0]"
      ]
    },
    {
      "cell_type": "code",
      "execution_count": 18,
      "metadata": {
        "id": "D9eZPuXWKlZY"
      },
      "outputs": [],
      "source": [
        "def OCR_values(color):\n",
        "    result = reader.readtext(color,min_size= 40,detail=0,text_threshold=0.90)\n",
        "    value = [x for x in result if all(x1.isdigit() or x1 == '/' for x1 in x)]   #Select only digit values to store in a corresponding key\n",
        "    return value"
      ]
    },
    {
      "cell_type": "code",
      "execution_count": 19,
      "metadata": {
        "id": "LTKe6ZO8Io6D"
      },
      "outputs": [],
      "source": [
        "green=get_green_mask(hsv_frame,image)\n",
        "blue = get_blue_mask(hsv_frame, image)\n",
        "red=get_red_mask(hsv_frame,image)\n",
        "yellow=get_yellow_mask(hsv_frame,image)\n",
        "white=get_white_mask(hsv_frame,image)\n",
        "masks = [green, blue, red, yellow, white]\n",
        "header_green=OCR_header(color=green)\n",
        "header_red=OCR_header(color=red)\n",
        "header_yellow=OCR_header(color=yellow)\n",
        "header_white=OCR_header(color=white)\n",
        "header_blue=OCR_header(color=blue)\n"
      ]
    },
    {
      "cell_type": "code",
      "execution_count": 20,
      "metadata": {
        "id": "ALIrbQ4DA6-U"
      },
      "outputs": [],
      "source": [
        "def get_waveform(img, threshold):\n",
        "    x = []\n",
        "    y = []\n",
        "    for i in range(img.shape[1]):\n",
        "        latest = 0\n",
        "        for j in range(img.shape[0]):\n",
        "            if np.any(img[j, i] > threshold):\n",
        "                latest = j\n",
        "        if latest != 0:\n",
        "            x.append(i)\n",
        "            y.append(latest)\n",
        "    return x, y"
      ]
    },
    {
      "cell_type": "code",
      "execution_count": 21,
      "metadata": {
        "id": "UYZ8Pfng5eyg"
      },
      "outputs": [],
      "source": [
        "import math\n",
        "def plot_waveform(xs, ys):\n",
        "    X = np.array(xs).reshape(-1, 1)\n",
        "    y = np.array(ys)\n",
        "    mn = np.mean(y)\n",
        "    z_scores = (y - np.mean(y)) / np.std(y)\n",
        "    max_thresh = (np.max(y) - np.mean(y))/np.std(y)\n",
        "    min_thresh = (abs(np.min(y) - np.mean(y)))/np.std(y)\n",
        "    z_score_threshold = int(min(min_thresh, max_thresh)/2)\n",
        "    # print(z_score_threshold)\n",
        "    # Identify the indices of the data points that have a Z-score greater than the threshold\n",
        "    outlier_indices = np.where(np.abs(z_scores) > z_score_threshold)\n",
        "    indices = outlier_indices[0]\n",
        "    # Remove the outliers from the data\n",
        "    for i in range(len(indices)):\n",
        "        left = indices[i]\n",
        "        if indices[i] != 0:\n",
        "            left = indices[i] - 1\n",
        "        right = indices[i]\n",
        "        if indices[i] != y.shape[0] - 1:\n",
        "            right = indices[i] + 1\n",
        "        y[indices[i]] = int((y[left] + y[right])/2)\n",
        "    return z_score_threshold, X, y"
      ]
    },
    {
      "cell_type": "code",
      "execution_count": 22,
      "metadata": {
        "id": "9540p7vk9FKu"
      },
      "outputs": [],
      "source": [
        "def get_waveform_from_image(color):\n",
        "    ret, thresh = cv2.threshold(color, 70, 255, 0)\n",
        "    xs, ys = get_waveform(thresh)\n",
        "    if ys.any(img[j, i] > threshold):\n",
        "        max_val = max(ys)\n",
        "        return xs, ys\n",
        "    else:\n",
        "        return None, None"
      ]
    },
    {
      "cell_type": "code",
      "source": [
        "for mask, color in zip(masks, ['green', 'blue', 'red', 'yellow', 'white']):\n",
        "    # Invert the color channels before displaying\n",
        "    mask_rgb = cv2.cvtColor(mask, cv2.COLOR_BGR2RGB)\n",
        "    plt.imshow(mask_rgb)\n",
        "    plt.show()\n",
        "    ret, thresh = cv2.threshold(mask, 70, 255, 0)\n",
        "    x, y = get_waveform(thresh, threshold=70)\n",
        "    if x is not None and y is not None:\n",
        "        plt.scatter(x, y)\n",
        "        plt.show()\n",
        "\n"
      ],
      "metadata": {
        "id": "mdbWKuLe1bun"
      },
      "execution_count": null,
      "outputs": []
    },
    {
      "cell_type": "code",
      "execution_count": null,
      "metadata": {
        "id": "PqjqVbvKf-2S"
      },
      "outputs": [],
      "source": [
        "min_color = np.array([1000, 1000, 1000])\n",
        "max_color = np.array([-1, -1, -1])\n",
        "for i in range(hsv_frame.shape[0]):\n",
        "    for j in range(hsv_frame.shape[1]):\n",
        "        if hsv_frame[i, j, 0] != 0:\n",
        "            if hsv_frame[i, j, 0] < min_color[0]:\n",
        "                min_color = hsv_frame[i, j]\n",
        "        if hsv_frame[i, j, 0] != 0:\n",
        "            if hsv_frame[i, j, 0] > max_color[0]:\n",
        "                max_color = hsv_frame[i, j]\n",
        "print(min_color)\n",
        "print(max_color)"
      ]
    },
    {
      "cell_type": "code",
      "execution_count": null,
      "metadata": {
        "id": "4WpI9ShlImpd"
      },
      "outputs": [],
      "source": [
        "print(header_green)\n",
        "print(header_red)\n",
        "print(header_yellow)\n",
        "print(header_white)\n",
        "print(header_blue)"
      ]
    },
    {
      "cell_type": "code",
      "execution_count": 26,
      "metadata": {
        "id": "DgYu-GSMJp_G"
      },
      "outputs": [],
      "source": [
        "green_value=OCR_values(green)\n",
        "red_value=OCR_values(red)\n",
        "yellow_value=OCR_values(yellow)\n",
        "white_value=OCR_values(white)\n",
        "blue_value=OCR_values(blue)"
      ]
    },
    {
      "cell_type": "code",
      "execution_count": null,
      "metadata": {
        "id": "c44M3YnkKPDP"
      },
      "outputs": [],
      "source": [
        "print(green_value)\n",
        "print(red_value)\n",
        "print(yellow_value)\n",
        "print(white_value)\n",
        "print(blue_value)"
      ]
    }
  ],
  "metadata": {
    "accelerator": "GPU",
    "colab": {
      "provenance": []
    },
    "gpuClass": "standard",
    "kernelspec": {
      "display_name": "Python 3",
      "language": "python",
      "name": "python3"
    },
    "language_info": {
      "codemirror_mode": {
        "name": "ipython",
        "version": 3
      },
      "file_extension": ".py",
      "mimetype": "text/x-python",
      "name": "python",
      "nbconvert_exporter": "python",
      "pygments_lexer": "ipython3",
      "version": "3.8.5"
    }
  },
  "nbformat": 4,
  "nbformat_minor": 0
}