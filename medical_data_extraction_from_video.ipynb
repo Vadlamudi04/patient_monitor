{
  "nbformat": 4,
  "nbformat_minor": 0,
  "metadata": {
    "colab": {
      "provenance": []
    },
    "kernelspec": {
      "name": "python3",
      "display_name": "Python 3"
    },
    "language_info": {
      "name": "python"
    }
  },
  "cells": [
    {
      "cell_type": "markdown",
      "source": [
        "Install required packages"
      ],
      "metadata": {
        "id": "zbMk9vTGbnUh"
      }
    },
    {
      "cell_type": "code",
      "source": [
        "!pip install easyocr\n",
        "!pip install promptlib\n",
        "!pip install progress"
      ],
      "metadata": {
        "id": "5_H27WqhbiSh"
      },
      "execution_count": null,
      "outputs": []
    },
    {
      "cell_type": "markdown",
      "source": [
        "Import necessary libraries"
      ],
      "metadata": {
        "id": "4IKASLBQbs3L"
      }
    },
    {
      "cell_type": "code",
      "source": [
        "import cv2  # OpenCV for image processing\n",
        "import easyocr  # EasyOCR for text detection\n",
        "import numpy as np  # NumPy for numerical operations\n",
        "import pandas as pd  # Pandas for data manipulation\n",
        "import glob  # Glob for file handling\n",
        "import re  # Regular expressions for string processing\n",
        "from collections import OrderedDict  # OrderedDict for maintaining order in dictionary\n",
        "import string  # String module for string operations"
      ],
      "metadata": {
        "id": "zoz8IdZtbtEd"
      },
      "execution_count": null,
      "outputs": []
    },
    {
      "cell_type": "markdown",
      "source": [
        "Initialize EasyOCR Reader"
      ],
      "metadata": {
        "id": "TAQpX9UFbxdK"
      }
    },
    {
      "cell_type": "code",
      "source": [
        "reader = easyocr.Reader(['en'])"
      ],
      "metadata": {
        "id": "sZ39w9Xbbxjm"
      },
      "execution_count": null,
      "outputs": []
    },
    {
      "cell_type": "markdown",
      "source": [
        "Framing Function"
      ],
      "metadata": {
        "id": "flP63Exkb2Sy"
      }
    },
    {
      "cell_type": "code",
      "source": [
        "def getFrame(sec, file_name, count):\n",
        "    \"\"\"\n",
        "    Function to extract frames from video.\n",
        "\n",
        "    Args:\n",
        "        sec (float): Time in seconds for the frame to be extracted.\n",
        "        file_name (str): Path to the video file.\n",
        "        count (int): Frame count.\n",
        "\n",
        "    Returns:\n",
        "        bool: True if frame extraction is successful, False otherwise.\n",
        "    \"\"\"\n",
        "    vidcap = cv2.VideoCapture(file_name)\n",
        "    vidcap.set(cv2.CAP_PROP_POS_MSEC, sec * 1000)\n",
        "    hasFrames, image = vidcap.read()\n",
        "    if hasFrames:\n",
        "        cv2.imwrite(f\"frame{count}.jpg\", image)  # Save frame as JPG file\n",
        "    return hasFrames\n"
      ],
      "metadata": {
        "id": "UpjWKw1vb4lO"
      },
      "execution_count": null,
      "outputs": []
    },
    {
      "cell_type": "markdown",
      "source": [
        "Preprocessing Functions"
      ],
      "metadata": {
        "id": "5e38uSFCb7Yl"
      }
    },
    {
      "cell_type": "code",
      "source": [
        "def hsv_conversion(image):\n",
        "    \"\"\"\n",
        "    Convert BGR image to HSV color space.\n",
        "\n",
        "    Args:\n",
        "        image (numpy.ndarray): Input image.\n",
        "\n",
        "    Returns:\n",
        "        numpy.ndarray: HSV converted image.\n",
        "    \"\"\"\n",
        "    hsv_frame = cv2.cvtColor(image, cv2.COLOR_BGR2HSV)\n",
        "    return hsv_frame\n",
        "\n",
        "def get_green_mask(hsv_frame, image):\n",
        "    \"\"\"\n",
        "    Generate mask for green color.\n",
        "\n",
        "    Args:\n",
        "        hsv_frame (numpy.ndarray): HSV converted image.\n",
        "        image (numpy.ndarray): Input image.\n",
        "\n",
        "    Returns:\n",
        "        numpy.ndarray: Masked image with green color.\n",
        "    \"\"\"\n",
        "    low_green = np.array([50, 25, 25])\n",
        "    high_green = np.array([70, 255, 255])\n",
        "    mask_green = cv2.inRange(hsv_frame, low_green, high_green)\n",
        "    green = cv2.bitwise_and(image, image, mask=mask_green)\n",
        "    return green\n",
        "\n",
        "def get_yellow_mask(hsv_frame, image):\n",
        "    \"\"\"\n",
        "    Generate mask for yellow color.\n",
        "\n",
        "    Args:\n",
        "        hsv_frame (numpy.ndarray): HSV converted image.\n",
        "        image (numpy.ndarray): Input image.\n",
        "\n",
        "    Returns:\n",
        "        numpy.ndarray: Masked image with yellow color.\n",
        "    \"\"\"\n",
        "    low_yellow = np.array([25, 80, 80])\n",
        "    high_yellow = np.array([40, 255, 255])\n",
        "    mask_yellow = cv2.inRange(hsv_frame, low_yellow, high_yellow)\n",
        "    yellow = cv2.bitwise_and(image, image, mask=mask_yellow)\n",
        "    return yellow\n",
        "\n",
        "def get_red_mask(hsv_frame, image):\n",
        "    \"\"\"\n",
        "    Generate mask for red color.\n",
        "\n",
        "    Args:\n",
        "        hsv_frame (numpy.ndarray): HSV converted image.\n",
        "        image (numpy.ndarray): Input image.\n",
        "\n",
        "    Returns:\n",
        "        numpy.ndarray: Masked image with red color.\n",
        "    \"\"\"\n",
        "    low_red1 = np.array([0, 70, 50])\n",
        "    high_red1 = np.array([10, 255, 255])\n",
        "    low_red2 = np.array([170, 70, 50])\n",
        "    high_red2 = np.array([180, 255, 255])\n",
        "\n",
        "    mask_red1 = cv2.inRange(hsv_frame, low_red1, high_red1)\n",
        "    mask_red2 = cv2.inRange(hsv_frame, low_red2, high_red2)\n",
        "    mask_red = mask_red1 | mask_red2\n",
        "    red = cv2.bitwise_and(image, image, mask=mask_red)\n",
        "    return red\n",
        "\n",
        "def get_white_mask(hsv_frame, image):\n",
        "    \"\"\"\n",
        "    Generate mask for white color.\n",
        "\n",
        "    Args:\n",
        "        hsv_frame (numpy.ndarray): HSV converted image.\n",
        "        image (numpy.ndarray): Input image.\n",
        "\n",
        "    Returns:\n",
        "        numpy.ndarray: Masked image with white color.\n",
        "    \"\"\"\n",
        "    low_white = np.array([0, 0, 168])\n",
        "    high_white = np.array([172, 111, 255])\n",
        "    mask_white = cv2.inRange(hsv_frame, low_white, high_white)\n",
        "    white = cv2.bitwise_and(image, image, mask=mask_white)\n",
        "    return white\n",
        "\n",
        "def numericalSort(value):\n",
        "    \"\"\"\n",
        "    Function to sort file names numerically.\n",
        "\n",
        "    Args:\n",
        "        value (str): File name.\n",
        "\n",
        "    Returns:\n",
        "        list: Sorted list of file names.\n",
        "    \"\"\"\n",
        "    numbers = re.compile(r'(\\d+)')\n",
        "    parts = numbers.split(value)\n",
        "    parts[1::2] = map(int, parts[1::2])\n",
        "    return parts"
      ],
      "metadata": {
        "id": "fq8gksbHb7hg"
      },
      "execution_count": null,
      "outputs": []
    },
    {
      "cell_type": "markdown",
      "source": [
        "OCR Implementation for Header Detection"
      ],
      "metadata": {
        "id": "LUuyI-NhcHdM"
      }
    },
    {
      "cell_type": "code",
      "source": [
        "def get_mix_strings(item):\n",
        "    \"\"\"\n",
        "    Check if string contains a mix of characters.\n",
        "\n",
        "    Args:\n",
        "        item (str): Input string.\n",
        "\n",
        "    Returns:\n",
        "        bool: True if string contains a mix of characters, False otherwise.\n",
        "    \"\"\"\n",
        "    for ch in item:\n",
        "        if not ch.isalpha():\n",
        "            if not ch.isdigit():\n",
        "                return False\n",
        "    return True\n",
        "\n",
        "def get_all_num(item):\n",
        "    \"\"\"\n",
        "    Check if string contains all numeric characters.\n",
        "\n",
        "    Args:\n",
        "        item (str): Input string.\n",
        "\n",
        "    Returns:\n",
        "        bool: True if string contains all numeric characters, False otherwise.\n",
        "    \"\"\"\n",
        "    return all([ch.isdigit() for ch in item])\n",
        "\n",
        "def get_all_alpha(item):\n",
        "    \"\"\"\n",
        "    Check if string contains all alphabetic characters.\n",
        "\n",
        "    Args:\n",
        "        item (str): Input string.\n",
        "\n",
        "    Returns:\n",
        "        bool: True if string contains all alphabetic characters, False otherwise.\n",
        "    \"\"\"\n",
        "    return all([ch.isalpha() for ch in item])\n",
        "\n",
        "def OCR_header(color):\n",
        "    \"\"\"\n",
        "    Perform OCR to detect headers.\n",
        "\n",
        "    Args:\n",
        "        color (numpy.ndarray): Input image.\n",
        "\n",
        "    Returns:\n",
        "        list: Detected headers.\n",
        "    \"\"\"\n",
        "    result = reader.readtext(color, min_size=25, detail=0, text_threshold=0.90)\n",
        "    final_header = []\n",
        "    for item in result:\n",
        "        if get_all_num(item):\n",
        "            continue\n",
        "        elif get_mix_strings(item):\n",
        "            final_header.append(item)\n",
        "        elif get_all_alpha(item):\n",
        "            final_header.append((item))\n",
        "\n",
        "    return final_header\n"
      ],
      "metadata": {
        "id": "nGkfXBzfcHlV"
      },
      "execution_count": null,
      "outputs": []
    },
    {
      "cell_type": "markdown",
      "source": [
        "OCR Implementation for Value Detection"
      ],
      "metadata": {
        "id": "JqWJ6fvscWOX"
      }
    },
    {
      "cell_type": "code",
      "source": [
        "def OCR_values(color):\n",
        "    \"\"\"\n",
        "    Perform OCR to detect numeric values.\n",
        "\n",
        "    Args:\n",
        "        color (numpy.ndarray): Input image.\n",
        "\n",
        "    Returns:\n",
        "        list: Detected numeric values.\n",
        "    \"\"\"\n",
        "    result = reader.readtext(color, min_size=80, detail=0, text_threshold=0.90)\n",
        "    value = [x for x in result if all(x1.isdigit() for x1 in x)]\n",
        "    return value\n",
        "\n",
        "#Header Dataframe Function\n",
        "def get_headers_dataframe(header_color):\n",
        "    \"\"\"\n",
        "    Create dataframe structure based on detected headers.\n",
        "\n",
        "    Args:\n",
        "        header_color (list): Detected headers.\n",
        "\n",
        "    Returns:\n",
        "        pandas.DataFrame: Empty dataframe with headers.\n",
        "        list: List of headers.\n",
        "    \"\"\"\n",
        "    final_header = ['HR', 'Tperi', 'Tblood', 'Pulse', 'SpO2', 'ABP', 'PAP', 'etCO2', 'awRR', 'NBP', 'etCO2', 'mCO2']\n",
        "    header = []\n",
        "    for i in header_color:\n",
        "        for j in final_header:\n",
        "            if i == j:\n",
        "                header.append(j)\n",
        "\n",
        "    header = list(OrderedDict.fromkeys(header))\n",
        "    df = pd.DataFrame(columns=header)\n",
        "    return df, header\n",
        "\n",
        "#Numeric Values in Dataframe\n",
        "def df_values(df, header, value):\n",
        "    \"\"\"\n",
        "    Update dataframe with numeric values.\n",
        "\n",
        "    Args:\n",
        "        df (pandas.DataFrame): Dataframe to be updated.\n",
        "        header (list): List of headers.\n",
        "        value (list): List of numeric values.\n",
        "\n",
        "    Returns:\n",
        "        pandas.DataFrame: Updated dataframe.\n",
        "    \"\"\"\n",
        "    if len(value) < len(header):\n",
        "        value.extend([str(0)] * (len(header) - len(value)))\n",
        "    length_df = len(df)\n",
        "    df.loc[length_df] = value[:len(header)]\n",
        "    return df\n"
      ],
      "metadata": {
        "id": "DJn8QhHYcWVS"
      },
      "execution_count": null,
      "outputs": []
    },
    {
      "cell_type": "markdown",
      "source": [
        "Main Function"
      ],
      "metadata": {
        "id": "z6_cerB6c8A2"
      }
    },
    {
      "cell_type": "code",
      "source": [
        "def main(video_file_path):\n",
        "    \"\"\"\n",
        "    Orchestrates the overall process.\n",
        "\n",
        "    Args:\n",
        "        video_file_path (str): Path to the video file.\n",
        "\n",
        "    Returns:\n",
        "        pandas.DataFrame: Concatenated dataframe.\n",
        "    \"\"\"\n",
        "    sec = 0\n",
        "    frameRate = 1\n",
        "    count = 1\n",
        "    success = getFrame(sec, video_file_path, count)\n",
        "    while success:\n",
        "        count = count + 1\n",
        "        sec = sec + frameRate\n",
        "        sec = round(sec, 2)\n",
        "        success = getFrame(sec, video_file_path, count)\n",
        "\n",
        "    print(\"Framing done\")\n",
        "\n",
        "    image_header = cv2.imread(f\"frame200.jpg\")\n",
        "    hsv_frame = hsv_conversion(image_header)\n",
        "    green = get_green_mask(hsv_frame, image_header)\n",
        "    red = get_red_mask(hsv_frame, image_header)\n",
        "    yellow = get_yellow_mask(hsv_frame, image_header)\n",
        "    white = get_white_mask(hsv_frame, image_header)\n",
        "\n",
        "    header_green = OCR_header(color=green)\n",
        "    header_red = OCR_header(color=red)\n",
        "    header_yellow = OCR_header(color=yellow)\n",
        "    header_white = OCR_header(color=white)\n",
        "\n",
        "    df_red, hd_red = get_headers_dataframe(header_red)\n",
        "    df_yellow, hd_yellow = get_headers_dataframe(header_yellow)\n",
        "    df_white, hd_white = get_headers_dataframe(header_white)\n",
        "    df_green, hd_green = get_headers_dataframe(header_green)\n",
        "\n",
        "    for infile in sorted(glob.glob(\"frame*.jpg\"), key=numericalSort):\n",
        "        image = cv2.imread(infile)\n",
        "\n",
        "        hsv_frame = hsv_conversion(image)\n",
        "        green = get_green_mask(hsv_frame, image)\n",
        "        red = get_red_mask(hsv_frame, image)\n",
        "        yellow = get_yellow_mask(hsv_frame, image)\n",
        "        white = get_white_mask(hsv_frame, image)\n",
        "\n",
        "        green_value = OCR_values(green)\n",
        "        red_value = OCR_values(red)\n",
        "        yellow_value = OCR_values(yellow)\n",
        "        white_value = OCR_values(white)\n",
        "\n",
        "        df_green = df_values(df_green, hd_green, green_value)\n",
        "        df_red = df_values(df_red, hd_red, red_value)\n",
        "        df_yellow = df_values(df_yellow, hd_yellow, yellow_value)\n",
        "        df_white = df_values(df_white, hd_white, white_value)\n",
        "\n",
        "    df = pd.concat([df_green, df_yellow, df_red, df_white], axis=1)\n",
        "    df.to_csv('Output.csv', index=False)\n",
        "\n",
        "    return df\n",
        "\n",
        "#Execution Time Measurement\n",
        "import time\n",
        "start = time.time()\n",
        "\n",
        "#Video File Path\n",
        "video_file_path = '/content/SimCap01_180222_0843_C106_cbba98135b2b4d198c6af4944b4454c1 (online-video-cutter.com).mp4'\n",
        "\n",
        "#Main Function Call\n",
        "df = main(video_file_path)\n",
        "\n",
        "#Execution Time Calculation\n",
        "end = time.time()\n",
        "print(end - start)"
      ],
      "metadata": {
        "id": "Nz2or6HHc8H2"
      },
      "execution_count": null,
      "outputs": []
    },
    {
      "cell_type": "markdown",
      "source": [
        "Optional: Displaying Bounding Boxes"
      ],
      "metadata": {
        "id": "bEe52vQqdEQo"
      }
    },
    {
      "cell_type": "code",
      "source": [
        "image = cv2.imread(\"frame58.jpg\")\n",
        "hsv_frame = hsv_conversion(image)\n",
        "green = get_green_mask(hsv_frame, image)\n",
        "red = get_red_mask(hsv_frame, image)\n",
        "yellow = get_yellow_mask(hsv_frame, image)\n",
        "white = get_white_mask(hsv_frame, image)\n",
        "res = reader.readtext(white, min_size=80, text_threshold=0.90)\n",
        "\n",
        "for (bbox, text, prob) in res:\n",
        "    (tl, tr, br, bl) = bbox\n",
        "    tl = (int(tl[0]), int(tl[1]))\n",
        "    tr = (int(tr[0]), int(tr[1]))\n",
        "    br = (int(br[0]), int(br[1]))\n",
        "    bl = (int(bl[0]), int(bl[1]))\n",
        "    cv2.rectangle(white, tl, br, (0, 255, 0), 2)\n",
        "\n",
        "plt.rcParams['figure.figsize'] = (16, 16)\n",
        "imS = cv2.resize(white, (1000, 600))\n",
        "cv2.imshow('Bounding Rectangle', imS)\n",
        "cv2.waitKey(0)"
      ],
      "metadata": {
        "id": "fDTjya2odEkY"
      },
      "execution_count": null,
      "outputs": []
    }
  ]
}